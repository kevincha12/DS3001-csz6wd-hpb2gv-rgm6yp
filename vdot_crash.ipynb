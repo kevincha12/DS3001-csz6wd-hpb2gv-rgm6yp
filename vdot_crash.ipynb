{
 "cells": [
  {
   "cell_type": "markdown",
   "id": "4c1e10d1",
   "metadata": {},
   "source": [
    "## Setup Imports"
   ]
  },
  {
   "cell_type": "code",
   "execution_count": 61,
   "id": "f0d2a955",
   "metadata": {},
   "outputs": [],
   "source": [
    "import pandas as pd\n",
    "import numpy as np\n",
    "import matplotlib as plt"
   ]
  },
  {
   "cell_type": "markdown",
   "id": "5474e479",
   "metadata": {},
   "source": [
    "## Dataset Import + Initial Cleaning"
   ]
  },
  {
   "cell_type": "markdown",
   "id": "b9ec42f9",
   "metadata": {},
   "source": [
    "### Initial Data Check"
   ]
  },
  {
   "cell_type": "code",
   "execution_count": 62,
   "id": "7fcc10d8",
   "metadata": {},
   "outputs": [],
   "source": [
    "crash_df = pd.read_csv('./data/VDOT_crash.csv')"
   ]
  },
  {
   "cell_type": "code",
   "execution_count": 63,
   "id": "1ce49f9b",
   "metadata": {},
   "outputs": [
    {
     "data": {
      "text/html": [
       "<div>\n",
       "<style scoped>\n",
       "    .dataframe tbody tr th:only-of-type {\n",
       "        vertical-align: middle;\n",
       "    }\n",
       "\n",
       "    .dataframe tbody tr th {\n",
       "        vertical-align: top;\n",
       "    }\n",
       "\n",
       "    .dataframe thead th {\n",
       "        text-align: right;\n",
       "    }\n",
       "</style>\n",
       "<table border=\"1\" class=\"dataframe\">\n",
       "  <thead>\n",
       "    <tr style=\"text-align: right;\">\n",
       "      <th></th>\n",
       "      <th>OBJECTID</th>\n",
       "      <th>Document Nbr</th>\n",
       "      <th>Crash Year</th>\n",
       "      <th>Crash Date</th>\n",
       "      <th>Crash Military Time</th>\n",
       "      <th>Crash Severity</th>\n",
       "      <th>K_People</th>\n",
       "      <th>A_People</th>\n",
       "      <th>B_People</th>\n",
       "      <th>C_People</th>\n",
       "      <th>...</th>\n",
       "      <th>VSP</th>\n",
       "      <th>Ownership</th>\n",
       "      <th>Planning District</th>\n",
       "      <th>MPO Name</th>\n",
       "      <th>RTE Name</th>\n",
       "      <th>RNS MP</th>\n",
       "      <th>Node</th>\n",
       "      <th>Node Offset (ft)</th>\n",
       "      <th>x</th>\n",
       "      <th>y</th>\n",
       "    </tr>\n",
       "  </thead>\n",
       "  <tbody>\n",
       "    <tr>\n",
       "      <th>0</th>\n",
       "      <td>1</td>\n",
       "      <td>170785244</td>\n",
       "      <td>2017</td>\n",
       "      <td>3/15/2017 4:00:00 AM</td>\n",
       "      <td>845</td>\n",
       "      <td>O</td>\n",
       "      <td>0</td>\n",
       "      <td>0</td>\n",
       "      <td>0</td>\n",
       "      <td>0</td>\n",
       "      <td>...</td>\n",
       "      <td>5</td>\n",
       "      <td>3. City or Town Hwy Agency</td>\n",
       "      <td>Hampton Roads</td>\n",
       "      <td>HAMP</td>\n",
       "      <td>S-VA121PR IVY AVE</td>\n",
       "      <td>0.59</td>\n",
       "      <td>731559.0</td>\n",
       "      <td>48.57</td>\n",
       "      <td>-76.415070</td>\n",
       "      <td>36.975935</td>\n",
       "    </tr>\n",
       "    <tr>\n",
       "      <th>1</th>\n",
       "      <td>2</td>\n",
       "      <td>173135321</td>\n",
       "      <td>2017</td>\n",
       "      <td>11/3/2017 4:00:00 AM</td>\n",
       "      <td>1718</td>\n",
       "      <td>O</td>\n",
       "      <td>0</td>\n",
       "      <td>0</td>\n",
       "      <td>0</td>\n",
       "      <td>0</td>\n",
       "      <td>...</td>\n",
       "      <td>1</td>\n",
       "      <td>1. State Hwy Agency</td>\n",
       "      <td>Richmond Regional, Crater</td>\n",
       "      <td>RICH</td>\n",
       "      <td>R-VA020SC00651WB</td>\n",
       "      <td>9.83</td>\n",
       "      <td>203463.0</td>\n",
       "      <td>9.78</td>\n",
       "      <td>-77.509985</td>\n",
       "      <td>37.455126</td>\n",
       "    </tr>\n",
       "    <tr>\n",
       "      <th>2</th>\n",
       "      <td>3</td>\n",
       "      <td>173035461</td>\n",
       "      <td>2017</td>\n",
       "      <td>10/30/2017 4:00:00 AM</td>\n",
       "      <td>734</td>\n",
       "      <td>O</td>\n",
       "      <td>0</td>\n",
       "      <td>0</td>\n",
       "      <td>0</td>\n",
       "      <td>0</td>\n",
       "      <td>...</td>\n",
       "      <td>2</td>\n",
       "      <td>1. State Hwy Agency</td>\n",
       "      <td>Northern Shenandoah Valley</td>\n",
       "      <td>NaN</td>\n",
       "      <td>R-VA   US00340NB</td>\n",
       "      <td>94.18</td>\n",
       "      <td>713190.0</td>\n",
       "      <td>84.94</td>\n",
       "      <td>-78.197568</td>\n",
       "      <td>38.908610</td>\n",
       "    </tr>\n",
       "    <tr>\n",
       "      <th>3</th>\n",
       "      <td>4</td>\n",
       "      <td>172925444</td>\n",
       "      <td>2017</td>\n",
       "      <td>10/19/2017 4:00:00 AM</td>\n",
       "      <td>511</td>\n",
       "      <td>O</td>\n",
       "      <td>0</td>\n",
       "      <td>0</td>\n",
       "      <td>0</td>\n",
       "      <td>0</td>\n",
       "      <td>...</td>\n",
       "      <td>1</td>\n",
       "      <td>1. State Hwy Agency</td>\n",
       "      <td>George Washington Regional</td>\n",
       "      <td>NaN</td>\n",
       "      <td>R-VA   US00301NB</td>\n",
       "      <td>111.82</td>\n",
       "      <td>1168608.0</td>\n",
       "      <td>174.41</td>\n",
       "      <td>-77.341817</td>\n",
       "      <td>38.034672</td>\n",
       "    </tr>\n",
       "    <tr>\n",
       "      <th>4</th>\n",
       "      <td>5</td>\n",
       "      <td>172245260</td>\n",
       "      <td>2017</td>\n",
       "      <td>8/12/2017 4:00:00 AM</td>\n",
       "      <td>218</td>\n",
       "      <td>O</td>\n",
       "      <td>0</td>\n",
       "      <td>0</td>\n",
       "      <td>0</td>\n",
       "      <td>0</td>\n",
       "      <td>...</td>\n",
       "      <td>5</td>\n",
       "      <td>3. City or Town Hwy Agency</td>\n",
       "      <td>Hampton Roads</td>\n",
       "      <td>HAMP</td>\n",
       "      <td>R-VA   SR00337WB</td>\n",
       "      <td>1.26</td>\n",
       "      <td>469440.0</td>\n",
       "      <td>16.97</td>\n",
       "      <td>-76.577218</td>\n",
       "      <td>36.726416</td>\n",
       "    </tr>\n",
       "  </tbody>\n",
       "</table>\n",
       "<p>5 rows × 69 columns</p>\n",
       "</div>"
      ],
      "text/plain": [
       "   OBJECTID  Document Nbr  Crash Year             Crash Date  \\\n",
       "0         1     170785244        2017   3/15/2017 4:00:00 AM   \n",
       "1         2     173135321        2017   11/3/2017 4:00:00 AM   \n",
       "2         3     173035461        2017  10/30/2017 4:00:00 AM   \n",
       "3         4     172925444        2017  10/19/2017 4:00:00 AM   \n",
       "4         5     172245260        2017   8/12/2017 4:00:00 AM   \n",
       "\n",
       "   Crash Military Time Crash Severity  K_People  A_People  B_People  C_People  \\\n",
       "0                  845              O         0         0         0         0   \n",
       "1                 1718              O         0         0         0         0   \n",
       "2                  734              O         0         0         0         0   \n",
       "3                  511              O         0         0         0         0   \n",
       "4                  218              O         0         0         0         0   \n",
       "\n",
       "   ...  VSP                   Ownership           Planning District  MPO Name  \\\n",
       "0  ...    5  3. City or Town Hwy Agency               Hampton Roads      HAMP   \n",
       "1  ...    1         1. State Hwy Agency   Richmond Regional, Crater      RICH   \n",
       "2  ...    2         1. State Hwy Agency  Northern Shenandoah Valley       NaN   \n",
       "3  ...    1         1. State Hwy Agency  George Washington Regional       NaN   \n",
       "4  ...    5  3. City or Town Hwy Agency               Hampton Roads      HAMP   \n",
       "\n",
       "            RTE Name  RNS MP       Node Node Offset (ft)          x          y  \n",
       "0  S-VA121PR IVY AVE    0.59   731559.0            48.57 -76.415070  36.975935  \n",
       "1   R-VA020SC00651WB    9.83   203463.0             9.78 -77.509985  37.455126  \n",
       "2   R-VA   US00340NB   94.18   713190.0            84.94 -78.197568  38.908610  \n",
       "3   R-VA   US00301NB  111.82  1168608.0           174.41 -77.341817  38.034672  \n",
       "4   R-VA   SR00337WB    1.26   469440.0            16.97 -76.577218  36.726416  \n",
       "\n",
       "[5 rows x 69 columns]"
      ]
     },
     "execution_count": 63,
     "metadata": {},
     "output_type": "execute_result"
    }
   ],
   "source": [
    "crash_df.head()"
   ]
  },
  {
   "cell_type": "markdown",
   "id": "5d2f4cc0",
   "metadata": {},
   "source": [
    "So, our group decided to filter the crash year to be any time newer than 2021 to get a more accurate understanding of more recent times and trends."
   ]
  },
  {
   "cell_type": "code",
   "execution_count": 64,
   "id": "023f820f",
   "metadata": {},
   "outputs": [
    {
     "data": {
      "text/html": [
       "<div>\n",
       "<style scoped>\n",
       "    .dataframe tbody tr th:only-of-type {\n",
       "        vertical-align: middle;\n",
       "    }\n",
       "\n",
       "    .dataframe tbody tr th {\n",
       "        vertical-align: top;\n",
       "    }\n",
       "\n",
       "    .dataframe thead th {\n",
       "        text-align: right;\n",
       "    }\n",
       "</style>\n",
       "<table border=\"1\" class=\"dataframe\">\n",
       "  <thead>\n",
       "    <tr style=\"text-align: right;\">\n",
       "      <th></th>\n",
       "      <th>OBJECTID</th>\n",
       "      <th>Document Nbr</th>\n",
       "      <th>Crash Year</th>\n",
       "      <th>Crash Date</th>\n",
       "      <th>Crash Military Time</th>\n",
       "      <th>Crash Severity</th>\n",
       "      <th>K_People</th>\n",
       "      <th>A_People</th>\n",
       "      <th>B_People</th>\n",
       "      <th>C_People</th>\n",
       "      <th>...</th>\n",
       "      <th>VSP</th>\n",
       "      <th>Ownership</th>\n",
       "      <th>Planning District</th>\n",
       "      <th>MPO Name</th>\n",
       "      <th>RTE Name</th>\n",
       "      <th>RNS MP</th>\n",
       "      <th>Node</th>\n",
       "      <th>Node Offset (ft)</th>\n",
       "      <th>x</th>\n",
       "      <th>y</th>\n",
       "    </tr>\n",
       "  </thead>\n",
       "  <tbody>\n",
       "    <tr>\n",
       "      <th>492995</th>\n",
       "      <td>492996</td>\n",
       "      <td>210235155</td>\n",
       "      <td>2021</td>\n",
       "      <td>1/23/2021 5:00:00 AM</td>\n",
       "      <td>1528</td>\n",
       "      <td>B</td>\n",
       "      <td>0</td>\n",
       "      <td>0</td>\n",
       "      <td>2</td>\n",
       "      <td>0</td>\n",
       "      <td>...</td>\n",
       "      <td>6</td>\n",
       "      <td>1. State Hwy Agency</td>\n",
       "      <td>West Piedmont</td>\n",
       "      <td>NaN</td>\n",
       "      <td>R-VA   SR00057EB</td>\n",
       "      <td>11.59</td>\n",
       "      <td>1207241.0</td>\n",
       "      <td>10.67</td>\n",
       "      <td>-80.078479</td>\n",
       "      <td>36.751090</td>\n",
       "    </tr>\n",
       "    <tr>\n",
       "      <th>492996</th>\n",
       "      <td>492997</td>\n",
       "      <td>213645296</td>\n",
       "      <td>2021</td>\n",
       "      <td>12/30/2021 5:00:00 AM</td>\n",
       "      <td>1206</td>\n",
       "      <td>B</td>\n",
       "      <td>0</td>\n",
       "      <td>0</td>\n",
       "      <td>1</td>\n",
       "      <td>0</td>\n",
       "      <td>...</td>\n",
       "      <td>2</td>\n",
       "      <td>3. City or Town Hwy Agency</td>\n",
       "      <td>George Washington Regional</td>\n",
       "      <td>FRED</td>\n",
       "      <td>R-VA   SR00003WBBUS001</td>\n",
       "      <td>0.02</td>\n",
       "      <td>1010915.0</td>\n",
       "      <td>236.85</td>\n",
       "      <td>-77.480568</td>\n",
       "      <td>38.294743</td>\n",
       "    </tr>\n",
       "    <tr>\n",
       "      <th>492997</th>\n",
       "      <td>492998</td>\n",
       "      <td>211415254</td>\n",
       "      <td>2021</td>\n",
       "      <td>5/20/2021 4:00:00 AM</td>\n",
       "      <td>1613</td>\n",
       "      <td>O</td>\n",
       "      <td>0</td>\n",
       "      <td>0</td>\n",
       "      <td>0</td>\n",
       "      <td>0</td>\n",
       "      <td>...</td>\n",
       "      <td>1</td>\n",
       "      <td>1. State Hwy Agency</td>\n",
       "      <td>Richmond Regional</td>\n",
       "      <td>RICH</td>\n",
       "      <td>R-VA   IS00095SB</td>\n",
       "      <td>78.38</td>\n",
       "      <td>NaN</td>\n",
       "      <td>NaN</td>\n",
       "      <td>-77.461825</td>\n",
       "      <td>37.575069</td>\n",
       "    </tr>\n",
       "    <tr>\n",
       "      <th>492998</th>\n",
       "      <td>492999</td>\n",
       "      <td>211615171</td>\n",
       "      <td>2021</td>\n",
       "      <td>6/3/2021 4:00:00 AM</td>\n",
       "      <td>1452</td>\n",
       "      <td>O</td>\n",
       "      <td>0</td>\n",
       "      <td>0</td>\n",
       "      <td>0</td>\n",
       "      <td>0</td>\n",
       "      <td>...</td>\n",
       "      <td>5</td>\n",
       "      <td>1. State Hwy Agency</td>\n",
       "      <td>Hampton Roads</td>\n",
       "      <td>HAMP</td>\n",
       "      <td>R-VA   IS00064WB</td>\n",
       "      <td>263.98</td>\n",
       "      <td>NaN</td>\n",
       "      <td>NaN</td>\n",
       "      <td>-76.391991</td>\n",
       "      <td>37.038167</td>\n",
       "    </tr>\n",
       "    <tr>\n",
       "      <th>492999</th>\n",
       "      <td>493000</td>\n",
       "      <td>211405033</td>\n",
       "      <td>2021</td>\n",
       "      <td>5/18/2021 4:00:00 AM</td>\n",
       "      <td>1755</td>\n",
       "      <td>O</td>\n",
       "      <td>0</td>\n",
       "      <td>0</td>\n",
       "      <td>0</td>\n",
       "      <td>0</td>\n",
       "      <td>...</td>\n",
       "      <td>7</td>\n",
       "      <td>1. State Hwy Agency</td>\n",
       "      <td>Northern Virginia</td>\n",
       "      <td>NOVA</td>\n",
       "      <td>R-VA   IS00066WB</td>\n",
       "      <td>54.52</td>\n",
       "      <td>NaN</td>\n",
       "      <td>NaN</td>\n",
       "      <td>-77.413541</td>\n",
       "      <td>38.850280</td>\n",
       "    </tr>\n",
       "  </tbody>\n",
       "</table>\n",
       "<p>5 rows × 69 columns</p>\n",
       "</div>"
      ],
      "text/plain": [
       "        OBJECTID  Document Nbr  Crash Year             Crash Date  \\\n",
       "492995    492996     210235155        2021   1/23/2021 5:00:00 AM   \n",
       "492996    492997     213645296        2021  12/30/2021 5:00:00 AM   \n",
       "492997    492998     211415254        2021   5/20/2021 4:00:00 AM   \n",
       "492998    492999     211615171        2021    6/3/2021 4:00:00 AM   \n",
       "492999    493000     211405033        2021   5/18/2021 4:00:00 AM   \n",
       "\n",
       "        Crash Military Time Crash Severity  K_People  A_People  B_People  \\\n",
       "492995                 1528              B         0         0         2   \n",
       "492996                 1206              B         0         0         1   \n",
       "492997                 1613              O         0         0         0   \n",
       "492998                 1452              O         0         0         0   \n",
       "492999                 1755              O         0         0         0   \n",
       "\n",
       "        C_People  ...  VSP                   Ownership  \\\n",
       "492995         0  ...    6         1. State Hwy Agency   \n",
       "492996         0  ...    2  3. City or Town Hwy Agency   \n",
       "492997         0  ...    1         1. State Hwy Agency   \n",
       "492998         0  ...    5         1. State Hwy Agency   \n",
       "492999         0  ...    7         1. State Hwy Agency   \n",
       "\n",
       "                 Planning District  MPO Name                RTE Name  RNS MP  \\\n",
       "492995               West Piedmont       NaN        R-VA   SR00057EB   11.59   \n",
       "492996  George Washington Regional      FRED  R-VA   SR00003WBBUS001    0.02   \n",
       "492997           Richmond Regional      RICH        R-VA   IS00095SB   78.38   \n",
       "492998               Hampton Roads      HAMP        R-VA   IS00064WB  263.98   \n",
       "492999           Northern Virginia      NOVA        R-VA   IS00066WB   54.52   \n",
       "\n",
       "             Node Node Offset (ft)          x          y  \n",
       "492995  1207241.0            10.67 -80.078479  36.751090  \n",
       "492996  1010915.0           236.85 -77.480568  38.294743  \n",
       "492997        NaN              NaN -77.461825  37.575069  \n",
       "492998        NaN              NaN -76.391991  37.038167  \n",
       "492999        NaN              NaN -77.413541  38.850280  \n",
       "\n",
       "[5 rows x 69 columns]"
      ]
     },
     "execution_count": 64,
     "metadata": {},
     "output_type": "execute_result"
    }
   ],
   "source": [
    "filtered_crash_df = crash_df[crash_df[\"Crash Year\"] >= 2021]\n",
    "filtered_crash_df.head()"
   ]
  },
  {
   "cell_type": "code",
   "execution_count": 65,
   "id": "67e47799",
   "metadata": {},
   "outputs": [
    {
     "data": {
      "text/plain": [
       "Index(['OBJECTID', 'Document Nbr', 'Crash Year', 'Crash Date',\n",
       "       'Crash Military Time', 'Crash Severity', 'K_People', 'A_People',\n",
       "       'B_People', 'C_People', 'Persons Injured', 'Pedestrians Killed',\n",
       "       'Pedestrians Injured', 'Vehicle Count', 'Collision Type',\n",
       "       'Weather Condition', 'Light Condition', 'Roadway Surface Condition',\n",
       "       'Relation To Roadway', 'Roadway Alignment', 'Roadway Surface Type',\n",
       "       'Roadway Defect', 'Roadway Description', 'Intersection Type',\n",
       "       'Traffic Control Type', 'Traffic Control Status', 'Work Zone Related',\n",
       "       'Work Zone Location', 'Work Zone Type', 'School Zone',\n",
       "       'First Harmful Event', 'First Harmful Event Loc', 'Alcohol?',\n",
       "       'Animal Related?', 'Unrestrained?', 'Bike?', 'Distracted?', 'Drowsy?',\n",
       "       'Drug Related?', 'Guardrail Related?', 'Hitrun?', 'Lgtruck?',\n",
       "       'Motorcycle?', 'Pedestrian?', 'Speed?', 'Max Speed Diff',\n",
       "       'RoadDeparture Type', 'Intersection Analysis', 'Senior?', 'Young?',\n",
       "       'Mainline?', 'Night?', 'VDOT District', 'Juris Code',\n",
       "       'Physical Juris Name', 'Functional Class', 'Facility Type', 'Area Type',\n",
       "       'SYSTEM', 'VSP', 'Ownership', 'Planning District', 'MPO Name',\n",
       "       'RTE Name', 'RNS MP', 'Node', 'Node Offset (ft)', 'x', 'y'],\n",
       "      dtype='object')"
      ]
     },
     "execution_count": 65,
     "metadata": {},
     "output_type": "execute_result"
    }
   ],
   "source": [
    "filtered_crash_df.columns"
   ]
  },
  {
   "cell_type": "markdown",
   "id": "4f0b5f75",
   "metadata": {},
   "source": [
    "And now, we decided to drop a few columns that don't actually matter too much. That includes some metadata like object ID, dates that don't really matter, location/jurisdiction information, virginia state patrol numbers, etc. that are irrelevant features for the actual model we intend on training!"
   ]
  },
  {
   "cell_type": "code",
   "execution_count": 66,
   "id": "b8f9be3c",
   "metadata": {},
   "outputs": [
    {
     "data": {
      "text/html": [
       "<div>\n",
       "<style scoped>\n",
       "    .dataframe tbody tr th:only-of-type {\n",
       "        vertical-align: middle;\n",
       "    }\n",
       "\n",
       "    .dataframe tbody tr th {\n",
       "        vertical-align: top;\n",
       "    }\n",
       "\n",
       "    .dataframe thead th {\n",
       "        text-align: right;\n",
       "    }\n",
       "</style>\n",
       "<table border=\"1\" class=\"dataframe\">\n",
       "  <thead>\n",
       "    <tr style=\"text-align: right;\">\n",
       "      <th></th>\n",
       "      <th>Crash Severity</th>\n",
       "      <th>K_People</th>\n",
       "      <th>A_People</th>\n",
       "      <th>B_People</th>\n",
       "      <th>C_People</th>\n",
       "      <th>Persons Injured</th>\n",
       "      <th>Pedestrians Killed</th>\n",
       "      <th>Pedestrians Injured</th>\n",
       "      <th>Vehicle Count</th>\n",
       "      <th>Collision Type</th>\n",
       "      <th>...</th>\n",
       "      <th>Senior?</th>\n",
       "      <th>Young?</th>\n",
       "      <th>Mainline?</th>\n",
       "      <th>Night?</th>\n",
       "      <th>Functional Class</th>\n",
       "      <th>Facility Type</th>\n",
       "      <th>Area Type</th>\n",
       "      <th>SYSTEM</th>\n",
       "      <th>x</th>\n",
       "      <th>y</th>\n",
       "    </tr>\n",
       "  </thead>\n",
       "  <tbody>\n",
       "    <tr>\n",
       "      <th>492995</th>\n",
       "      <td>B</td>\n",
       "      <td>0</td>\n",
       "      <td>0</td>\n",
       "      <td>2</td>\n",
       "      <td>0</td>\n",
       "      <td>2</td>\n",
       "      <td>0</td>\n",
       "      <td>0</td>\n",
       "      <td>2</td>\n",
       "      <td>3. Head On</td>\n",
       "      <td>...</td>\n",
       "      <td>Yes</td>\n",
       "      <td>Yes</td>\n",
       "      <td>Yes</td>\n",
       "      <td>No</td>\n",
       "      <td>4-Minor Arterial (H,3)</td>\n",
       "      <td>3-Two-Way Undivided</td>\n",
       "      <td>Rural</td>\n",
       "      <td>VDOT Primary</td>\n",
       "      <td>-80.078479</td>\n",
       "      <td>36.751090</td>\n",
       "    </tr>\n",
       "    <tr>\n",
       "      <th>492996</th>\n",
       "      <td>B</td>\n",
       "      <td>0</td>\n",
       "      <td>0</td>\n",
       "      <td>1</td>\n",
       "      <td>0</td>\n",
       "      <td>1</td>\n",
       "      <td>0</td>\n",
       "      <td>0</td>\n",
       "      <td>2</td>\n",
       "      <td>1. Rear End</td>\n",
       "      <td>...</td>\n",
       "      <td>Yes</td>\n",
       "      <td>No</td>\n",
       "      <td>Yes</td>\n",
       "      <td>No</td>\n",
       "      <td>4-Minor Arterial (H,3)</td>\n",
       "      <td>4-Two-Way Divided</td>\n",
       "      <td>Urban</td>\n",
       "      <td>NonVDOT primary</td>\n",
       "      <td>-77.480568</td>\n",
       "      <td>38.294743</td>\n",
       "    </tr>\n",
       "    <tr>\n",
       "      <th>492997</th>\n",
       "      <td>O</td>\n",
       "      <td>0</td>\n",
       "      <td>0</td>\n",
       "      <td>0</td>\n",
       "      <td>0</td>\n",
       "      <td>0</td>\n",
       "      <td>0</td>\n",
       "      <td>0</td>\n",
       "      <td>3</td>\n",
       "      <td>1. Rear End</td>\n",
       "      <td>...</td>\n",
       "      <td>No</td>\n",
       "      <td>No</td>\n",
       "      <td>Yes</td>\n",
       "      <td>No</td>\n",
       "      <td>1-Interstate (A,1)</td>\n",
       "      <td>4-Two-Way Divided</td>\n",
       "      <td>Urban</td>\n",
       "      <td>VDOT Interstate</td>\n",
       "      <td>-77.461825</td>\n",
       "      <td>37.575069</td>\n",
       "    </tr>\n",
       "    <tr>\n",
       "      <th>492998</th>\n",
       "      <td>O</td>\n",
       "      <td>0</td>\n",
       "      <td>0</td>\n",
       "      <td>0</td>\n",
       "      <td>0</td>\n",
       "      <td>0</td>\n",
       "      <td>0</td>\n",
       "      <td>0</td>\n",
       "      <td>1</td>\n",
       "      <td>9. Fixed Object - Off Road</td>\n",
       "      <td>...</td>\n",
       "      <td>No</td>\n",
       "      <td>No</td>\n",
       "      <td>Yes</td>\n",
       "      <td>No</td>\n",
       "      <td>1-Interstate (A,1)</td>\n",
       "      <td>4-Two-Way Divided</td>\n",
       "      <td>Urban</td>\n",
       "      <td>VDOT Interstate</td>\n",
       "      <td>-76.391991</td>\n",
       "      <td>37.038167</td>\n",
       "    </tr>\n",
       "    <tr>\n",
       "      <th>492999</th>\n",
       "      <td>O</td>\n",
       "      <td>0</td>\n",
       "      <td>0</td>\n",
       "      <td>0</td>\n",
       "      <td>0</td>\n",
       "      <td>0</td>\n",
       "      <td>0</td>\n",
       "      <td>0</td>\n",
       "      <td>3</td>\n",
       "      <td>1. Rear End</td>\n",
       "      <td>...</td>\n",
       "      <td>No</td>\n",
       "      <td>No</td>\n",
       "      <td>Yes</td>\n",
       "      <td>No</td>\n",
       "      <td>1-Interstate (A,1)</td>\n",
       "      <td>4-Two-Way Divided</td>\n",
       "      <td>Urban</td>\n",
       "      <td>VDOT Interstate</td>\n",
       "      <td>-77.413541</td>\n",
       "      <td>38.850280</td>\n",
       "    </tr>\n",
       "  </tbody>\n",
       "</table>\n",
       "<p>5 rows × 51 columns</p>\n",
       "</div>"
      ],
      "text/plain": [
       "       Crash Severity  K_People  A_People  B_People  C_People  \\\n",
       "492995              B         0         0         2         0   \n",
       "492996              B         0         0         1         0   \n",
       "492997              O         0         0         0         0   \n",
       "492998              O         0         0         0         0   \n",
       "492999              O         0         0         0         0   \n",
       "\n",
       "        Persons Injured  Pedestrians Killed  Pedestrians Injured  \\\n",
       "492995                2                   0                    0   \n",
       "492996                1                   0                    0   \n",
       "492997                0                   0                    0   \n",
       "492998                0                   0                    0   \n",
       "492999                0                   0                    0   \n",
       "\n",
       "        Vehicle Count              Collision Type  ... Senior? Young?  \\\n",
       "492995              2                  3. Head On  ...     Yes    Yes   \n",
       "492996              2                 1. Rear End  ...     Yes     No   \n",
       "492997              3                 1. Rear End  ...      No     No   \n",
       "492998              1  9. Fixed Object - Off Road  ...      No     No   \n",
       "492999              3                 1. Rear End  ...      No     No   \n",
       "\n",
       "       Mainline? Night?        Functional Class        Facility Type  \\\n",
       "492995       Yes     No  4-Minor Arterial (H,3)  3-Two-Way Undivided   \n",
       "492996       Yes     No  4-Minor Arterial (H,3)    4-Two-Way Divided   \n",
       "492997       Yes     No      1-Interstate (A,1)    4-Two-Way Divided   \n",
       "492998       Yes     No      1-Interstate (A,1)    4-Two-Way Divided   \n",
       "492999       Yes     No      1-Interstate (A,1)    4-Two-Way Divided   \n",
       "\n",
       "       Area Type           SYSTEM          x          y  \n",
       "492995     Rural     VDOT Primary -80.078479  36.751090  \n",
       "492996     Urban  NonVDOT primary -77.480568  38.294743  \n",
       "492997     Urban  VDOT Interstate -77.461825  37.575069  \n",
       "492998     Urban  VDOT Interstate -76.391991  37.038167  \n",
       "492999     Urban  VDOT Interstate -77.413541  38.850280  \n",
       "\n",
       "[5 rows x 51 columns]"
      ]
     },
     "execution_count": 66,
     "metadata": {},
     "output_type": "execute_result"
    }
   ],
   "source": [
    "dropped_crash = filtered_crash_df.drop(columns=['OBJECTID', 'Document Nbr', 'Crash Year', 'Crash Date', 'Crash Military Time', 'Work Zone Location', 'Work Zone Type', 'VDOT District', 'Juris Code', 'Physical Juris Name', 'VSP', 'Ownership', 'Planning District', 'MPO Name', 'RTE Name', 'RNS MP', 'Node', 'Node Offset (ft)'])\n",
    "dropped_crash.head()"
   ]
  },
  {
   "cell_type": "markdown",
   "id": "1adc2378",
   "metadata": {},
   "source": [
    "### Null Handling"
   ]
  },
  {
   "cell_type": "code",
   "execution_count": 67,
   "id": "5a1af285",
   "metadata": {},
   "outputs": [
    {
     "name": "stdout",
     "output_type": "stream",
     "text": [
      "<class 'pandas.core.frame.DataFrame'>\n",
      "Index: 535585 entries, 492995 to 1028579\n",
      "Data columns (total 51 columns):\n",
      " #   Column                     Non-Null Count   Dtype  \n",
      "---  ------                     --------------   -----  \n",
      " 0   Crash Severity             535585 non-null  object \n",
      " 1   K_People                   535585 non-null  int64  \n",
      " 2   A_People                   535585 non-null  int64  \n",
      " 3   B_People                   535585 non-null  int64  \n",
      " 4   C_People                   535585 non-null  int64  \n",
      " 5   Persons Injured            535585 non-null  int64  \n",
      " 6   Pedestrians Killed         535585 non-null  int64  \n",
      " 7   Pedestrians Injured        535585 non-null  int64  \n",
      " 8   Vehicle Count              535585 non-null  int64  \n",
      " 9   Collision Type             535585 non-null  object \n",
      " 10  Weather Condition          535585 non-null  object \n",
      " 11  Light Condition            535585 non-null  object \n",
      " 12  Roadway Surface Condition  535585 non-null  object \n",
      " 13  Relation To Roadway        535585 non-null  object \n",
      " 14  Roadway Alignment          535583 non-null  object \n",
      " 15  Roadway Surface Type       535585 non-null  object \n",
      " 16  Roadway Defect             535585 non-null  object \n",
      " 17  Roadway Description        535585 non-null  object \n",
      " 18  Intersection Type          535585 non-null  object \n",
      " 19  Traffic Control Type       535585 non-null  object \n",
      " 20  Traffic Control Status     535585 non-null  object \n",
      " 21  Work Zone Related          535585 non-null  object \n",
      " 22  School Zone                535585 non-null  object \n",
      " 23  First Harmful Event        535585 non-null  object \n",
      " 24  First Harmful Event Loc    535585 non-null  object \n",
      " 25  Alcohol?                   535585 non-null  object \n",
      " 26  Animal Related?            535585 non-null  object \n",
      " 27  Unrestrained?              535585 non-null  object \n",
      " 28  Bike?                      535585 non-null  object \n",
      " 29  Distracted?                535585 non-null  object \n",
      " 30  Drowsy?                    535585 non-null  object \n",
      " 31  Drug Related?              535585 non-null  object \n",
      " 32  Guardrail Related?         535585 non-null  object \n",
      " 33  Hitrun?                    535585 non-null  object \n",
      " 34  Lgtruck?                   535585 non-null  object \n",
      " 35  Motorcycle?                535585 non-null  object \n",
      " 36  Pedestrian?                535585 non-null  object \n",
      " 37  Speed?                     535585 non-null  object \n",
      " 38  Max Speed Diff             108477 non-null  float64\n",
      " 39  RoadDeparture Type         535585 non-null  object \n",
      " 40  Intersection Analysis      535585 non-null  object \n",
      " 41  Senior?                    535585 non-null  object \n",
      " 42  Young?                     535585 non-null  object \n",
      " 43  Mainline?                  535585 non-null  object \n",
      " 44  Night?                     535585 non-null  object \n",
      " 45  Functional Class           528616 non-null  object \n",
      " 46  Facility Type              524890 non-null  object \n",
      " 47  Area Type                  535585 non-null  object \n",
      " 48  SYSTEM                     535585 non-null  object \n",
      " 49  x                          535580 non-null  float64\n",
      " 50  y                          535580 non-null  float64\n",
      "dtypes: float64(3), int64(8), object(40)\n",
      "memory usage: 212.5+ MB\n"
     ]
    }
   ],
   "source": [
    "dropped_crash.info()"
   ]
  },
  {
   "cell_type": "code",
   "execution_count": 68,
   "id": "0ade913f",
   "metadata": {},
   "outputs": [
    {
     "data": {
      "text/plain": [
       "Crash Severity                    0\n",
       "K_People                          0\n",
       "A_People                          0\n",
       "B_People                          0\n",
       "C_People                          0\n",
       "Persons Injured                   0\n",
       "Pedestrians Killed                0\n",
       "Pedestrians Injured               0\n",
       "Vehicle Count                     0\n",
       "Collision Type                    0\n",
       "Weather Condition                 0\n",
       "Light Condition                   0\n",
       "Roadway Surface Condition         0\n",
       "Relation To Roadway               0\n",
       "Roadway Alignment                 2\n",
       "Roadway Surface Type              0\n",
       "Roadway Defect                    0\n",
       "Roadway Description               0\n",
       "Intersection Type                 0\n",
       "Traffic Control Type              0\n",
       "Traffic Control Status            0\n",
       "Work Zone Related                 0\n",
       "School Zone                       0\n",
       "First Harmful Event               0\n",
       "First Harmful Event Loc           0\n",
       "Alcohol?                          0\n",
       "Animal Related?                   0\n",
       "Unrestrained?                     0\n",
       "Bike?                             0\n",
       "Distracted?                       0\n",
       "Drowsy?                           0\n",
       "Drug Related?                     0\n",
       "Guardrail Related?                0\n",
       "Hitrun?                           0\n",
       "Lgtruck?                          0\n",
       "Motorcycle?                       0\n",
       "Pedestrian?                       0\n",
       "Speed?                            0\n",
       "Max Speed Diff               427108\n",
       "RoadDeparture Type                0\n",
       "Intersection Analysis             0\n",
       "Senior?                           0\n",
       "Young?                            0\n",
       "Mainline?                         0\n",
       "Night?                            0\n",
       "Functional Class               6969\n",
       "Facility Type                 10695\n",
       "Area Type                         0\n",
       "SYSTEM                            0\n",
       "x                                 5\n",
       "y                                 5\n",
       "dtype: int64"
      ]
     },
     "execution_count": 68,
     "metadata": {},
     "output_type": "execute_result"
    }
   ],
   "source": [
    "dropped_crash.isnull().sum()"
   ]
  },
  {
   "cell_type": "markdown",
   "id": "8aa5cfb2",
   "metadata": {},
   "source": [
    "Ok. Looks like there are a couple nulls. It's truncated, but from looking at it in a text editor:\n",
    "\n",
    "Roadway Alignment - 2  \n",
    "Max Speed Diff - 427108   \n",
    "Functional Class - 6969   \n",
    "Facility Type - 10695  \n",
    "x - 5    \n",
    "y - 5   "
   ]
  },
  {
   "cell_type": "markdown",
   "id": "6a1dde7e",
   "metadata": {},
   "source": [
    "So going down the list one by one:\n",
    "\n",
    "Let's start with Roadway Alignment."
   ]
  },
  {
   "cell_type": "code",
   "execution_count": 69,
   "id": "39b6cee7",
   "metadata": {},
   "outputs": [
    {
     "data": {
      "text/plain": [
       "array(['1. Straight - Level', '6. Hillcrest - Curve',\n",
       "       '3. Grade - Straight', '2. Curve - Level', '4. Grade - Curve',\n",
       "       '7. Dip - Straight', '5. Hillcrest - Straight', '10. On/Off Ramp',\n",
       "       '8. Dip - Curve', '9. Other', nan], dtype=object)"
      ]
     },
     "execution_count": 69,
     "metadata": {},
     "output_type": "execute_result"
    }
   ],
   "source": [
    "dropped_crash['Roadway Alignment'].unique()"
   ]
  },
  {
   "cell_type": "markdown",
   "id": "a467388f",
   "metadata": {},
   "source": [
    "Honestly there's only 2 NaNs, let's just drop them in this case."
   ]
  },
  {
   "cell_type": "code",
   "execution_count": 70,
   "id": "a607a9e1",
   "metadata": {},
   "outputs": [],
   "source": [
    "dropped_crash = dropped_crash.dropna(subset=['Roadway Alignment'])"
   ]
  },
  {
   "cell_type": "markdown",
   "id": "0005ef12",
   "metadata": {},
   "source": [
    "Let's take a look at the Max Speed Diff description."
   ]
  },
  {
   "cell_type": "code",
   "execution_count": 71,
   "id": "e9a6f0ae",
   "metadata": {},
   "outputs": [
    {
     "data": {
      "text/plain": [
       "count    108476.000000\n",
       "mean         16.711964\n",
       "std          54.052119\n",
       "min           1.000000\n",
       "25%           5.000000\n",
       "50%          10.000000\n",
       "75%          20.000000\n",
       "max         994.000000\n",
       "Name: Max Speed Diff, dtype: float64"
      ]
     },
     "execution_count": 71,
     "metadata": {},
     "output_type": "execute_result"
    }
   ],
   "source": [
    "dropped_crash['Max Speed Diff'].describe()"
   ]
  },
  {
   "cell_type": "markdown",
   "id": "dead4d9d",
   "metadata": {},
   "source": [
    "Ah. That's probably it - the data only shows cases where the max speed difference is greater than 1. That is, if the driver was going under speed or at speed, it was likely put in as NaN - there's no way to particularly impute under speed values since there's no way to know, but imputing 0 here should be fair!"
   ]
  },
  {
   "cell_type": "code",
   "execution_count": 72,
   "id": "09f7a3b6",
   "metadata": {},
   "outputs": [],
   "source": [
    "filled_crash = dropped_crash.copy()\n",
    "filled_crash['Max Speed Diff'] = filled_crash['Max Speed Diff'].fillna(0)"
   ]
  },
  {
   "cell_type": "markdown",
   "id": "7e9bfc4e",
   "metadata": {},
   "source": [
    "Great - next up on the list is the Functional Class entries. Here's what they are:"
   ]
  },
  {
   "cell_type": "code",
   "execution_count": 73,
   "id": "f1ebb044",
   "metadata": {},
   "outputs": [
    {
     "data": {
      "text/plain": [
       "array(['4-Minor Arterial (H,3)', '1-Interstate (A,1)',\n",
       "       '3-Principal Arterial - Other (E,2)', nan, '7-Local (J,6)',\n",
       "       '6-Minor Collector (5)', '5-Major Collector (I,4)',\n",
       "       '2-Principal Arterial - Other Freeways and Expressways (B)'],\n",
       "      dtype=object)"
      ]
     },
     "execution_count": 73,
     "metadata": {},
     "output_type": "execute_result"
    }
   ],
   "source": [
    "filled_crash['Functional Class'].unique()"
   ]
  },
  {
   "cell_type": "markdown",
   "id": "161fe30c",
   "metadata": {},
   "source": [
    "Ok... little bit weird here. So functional class seems to be roughly what kind of place the crash occurred. I suppose in this case we can only consider one of two options - impute 'Unknown' or drop the columns. Since there are more than 10% of these being NaN's, let's just impute 'Unknown'."
   ]
  },
  {
   "cell_type": "code",
   "execution_count": 74,
   "id": "80a54483",
   "metadata": {},
   "outputs": [],
   "source": [
    "filled_crash['Functional Class'] = filled_crash['Functional Class'].fillna('Unknown')"
   ]
  },
  {
   "cell_type": "markdown",
   "id": "285c023c",
   "metadata": {},
   "source": [
    "Let's now move onto Facility Type."
   ]
  },
  {
   "cell_type": "code",
   "execution_count": 75,
   "id": "ea91a751",
   "metadata": {},
   "outputs": [
    {
     "data": {
      "text/plain": [
       "array(['3-Two-Way Undivided', '4-Two-Way Divided', '1-One-Way Undivided',\n",
       "       nan, '2-One-Way Divided', '5-Reversible Exclusively (e.g. 395R)'],\n",
       "      dtype=object)"
      ]
     },
     "execution_count": 75,
     "metadata": {},
     "output_type": "execute_result"
    }
   ],
   "source": [
    "filled_crash['Facility Type'].unique()"
   ]
  },
  {
   "cell_type": "markdown",
   "id": "9281bc16",
   "metadata": {},
   "source": [
    "Ah man. Another one similar to functional class - for the sake of the argument but double this time, if we drop this that's losing about 20% of our potential data points. So I'll just impute 'Unknown'."
   ]
  },
  {
   "cell_type": "code",
   "execution_count": 76,
   "id": "7764eae0",
   "metadata": {},
   "outputs": [],
   "source": [
    "filled_crash['Facility Type'] = filled_crash['Facility Type'].fillna('Unknown')"
   ]
  },
  {
   "cell_type": "markdown",
   "id": "6d366be9",
   "metadata": {},
   "source": [
    "And lastly, for x and y?"
   ]
  },
  {
   "cell_type": "code",
   "execution_count": 77,
   "id": "640f9db8",
   "metadata": {},
   "outputs": [
    {
     "data": {
      "text/plain": [
       "count    535578.000000\n",
       "mean        -77.841877\n",
       "std           1.412125\n",
       "min         -83.647464\n",
       "25%         -78.432405\n",
       "50%         -77.457760\n",
       "75%         -77.112222\n",
       "max         -75.349082\n",
       "Name: x, dtype: float64"
      ]
     },
     "execution_count": 77,
     "metadata": {},
     "output_type": "execute_result"
    }
   ],
   "source": [
    "filled_crash['x'].describe()"
   ]
  },
  {
   "cell_type": "code",
   "execution_count": 78,
   "id": "409683bd",
   "metadata": {},
   "outputs": [
    {
     "data": {
      "text/plain": [
       "count    535578.000000\n",
       "mean         37.744275\n",
       "std           0.794399\n",
       "min          36.539198\n",
       "25%          37.043891\n",
       "50%          37.535824\n",
       "75%          38.590427\n",
       "max          39.440270\n",
       "Name: y, dtype: float64"
      ]
     },
     "execution_count": 78,
     "metadata": {},
     "output_type": "execute_result"
    }
   ],
   "source": [
    "filled_crash['y'].describe()"
   ]
  },
  {
   "cell_type": "markdown",
   "id": "df7336da",
   "metadata": {},
   "source": [
    "Yeah... there's no obvious reason. Well, it's only 5 entries and obviously we can't do anything with imputation, so let's just drop these as it shouldn't affect things too much!"
   ]
  },
  {
   "cell_type": "code",
   "execution_count": 79,
   "id": "d022ef4c",
   "metadata": {},
   "outputs": [],
   "source": [
    "filled_crash = filled_crash.dropna(subset=['x','y'])"
   ]
  },
  {
   "cell_type": "code",
   "execution_count": 80,
   "id": "a8fa5353",
   "metadata": {},
   "outputs": [
    {
     "name": "stdout",
     "output_type": "stream",
     "text": [
      "<class 'pandas.core.frame.DataFrame'>\n",
      "Index: 535578 entries, 492995 to 1028579\n",
      "Data columns (total 51 columns):\n",
      " #   Column                     Non-Null Count   Dtype  \n",
      "---  ------                     --------------   -----  \n",
      " 0   Crash Severity             535578 non-null  object \n",
      " 1   K_People                   535578 non-null  int64  \n",
      " 2   A_People                   535578 non-null  int64  \n",
      " 3   B_People                   535578 non-null  int64  \n",
      " 4   C_People                   535578 non-null  int64  \n",
      " 5   Persons Injured            535578 non-null  int64  \n",
      " 6   Pedestrians Killed         535578 non-null  int64  \n",
      " 7   Pedestrians Injured        535578 non-null  int64  \n",
      " 8   Vehicle Count              535578 non-null  int64  \n",
      " 9   Collision Type             535578 non-null  object \n",
      " 10  Weather Condition          535578 non-null  object \n",
      " 11  Light Condition            535578 non-null  object \n",
      " 12  Roadway Surface Condition  535578 non-null  object \n",
      " 13  Relation To Roadway        535578 non-null  object \n",
      " 14  Roadway Alignment          535578 non-null  object \n",
      " 15  Roadway Surface Type       535578 non-null  object \n",
      " 16  Roadway Defect             535578 non-null  object \n",
      " 17  Roadway Description        535578 non-null  object \n",
      " 18  Intersection Type          535578 non-null  object \n",
      " 19  Traffic Control Type       535578 non-null  object \n",
      " 20  Traffic Control Status     535578 non-null  object \n",
      " 21  Work Zone Related          535578 non-null  object \n",
      " 22  School Zone                535578 non-null  object \n",
      " 23  First Harmful Event        535578 non-null  object \n",
      " 24  First Harmful Event Loc    535578 non-null  object \n",
      " 25  Alcohol?                   535578 non-null  object \n",
      " 26  Animal Related?            535578 non-null  object \n",
      " 27  Unrestrained?              535578 non-null  object \n",
      " 28  Bike?                      535578 non-null  object \n",
      " 29  Distracted?                535578 non-null  object \n",
      " 30  Drowsy?                    535578 non-null  object \n",
      " 31  Drug Related?              535578 non-null  object \n",
      " 32  Guardrail Related?         535578 non-null  object \n",
      " 33  Hitrun?                    535578 non-null  object \n",
      " 34  Lgtruck?                   535578 non-null  object \n",
      " 35  Motorcycle?                535578 non-null  object \n",
      " 36  Pedestrian?                535578 non-null  object \n",
      " 37  Speed?                     535578 non-null  object \n",
      " 38  Max Speed Diff             535578 non-null  float64\n",
      " 39  RoadDeparture Type         535578 non-null  object \n",
      " 40  Intersection Analysis      535578 non-null  object \n",
      " 41  Senior?                    535578 non-null  object \n",
      " 42  Young?                     535578 non-null  object \n",
      " 43  Mainline?                  535578 non-null  object \n",
      " 44  Night?                     535578 non-null  object \n",
      " 45  Functional Class           535578 non-null  object \n",
      " 46  Facility Type              535578 non-null  object \n",
      " 47  Area Type                  535578 non-null  object \n",
      " 48  SYSTEM                     535578 non-null  object \n",
      " 49  x                          535578 non-null  float64\n",
      " 50  y                          535578 non-null  float64\n",
      "dtypes: float64(3), int64(8), object(40)\n",
      "memory usage: 212.5+ MB\n"
     ]
    }
   ],
   "source": [
    "filled_crash.info()"
   ]
  },
  {
   "cell_type": "code",
   "execution_count": 81,
   "id": "62805b40",
   "metadata": {},
   "outputs": [
    {
     "data": {
      "text/plain": [
       "Crash Severity               0\n",
       "K_People                     0\n",
       "A_People                     0\n",
       "B_People                     0\n",
       "C_People                     0\n",
       "Persons Injured              0\n",
       "Pedestrians Killed           0\n",
       "Pedestrians Injured          0\n",
       "Vehicle Count                0\n",
       "Collision Type               0\n",
       "Weather Condition            0\n",
       "Light Condition              0\n",
       "Roadway Surface Condition    0\n",
       "Relation To Roadway          0\n",
       "Roadway Alignment            0\n",
       "Roadway Surface Type         0\n",
       "Roadway Defect               0\n",
       "Roadway Description          0\n",
       "Intersection Type            0\n",
       "Traffic Control Type         0\n",
       "Traffic Control Status       0\n",
       "Work Zone Related            0\n",
       "School Zone                  0\n",
       "First Harmful Event          0\n",
       "First Harmful Event Loc      0\n",
       "Alcohol?                     0\n",
       "Animal Related?              0\n",
       "Unrestrained?                0\n",
       "Bike?                        0\n",
       "Distracted?                  0\n",
       "Drowsy?                      0\n",
       "Drug Related?                0\n",
       "Guardrail Related?           0\n",
       "Hitrun?                      0\n",
       "Lgtruck?                     0\n",
       "Motorcycle?                  0\n",
       "Pedestrian?                  0\n",
       "Speed?                       0\n",
       "Max Speed Diff               0\n",
       "RoadDeparture Type           0\n",
       "Intersection Analysis        0\n",
       "Senior?                      0\n",
       "Young?                       0\n",
       "Mainline?                    0\n",
       "Night?                       0\n",
       "Functional Class             0\n",
       "Facility Type                0\n",
       "Area Type                    0\n",
       "SYSTEM                       0\n",
       "x                            0\n",
       "y                            0\n",
       "dtype: int64"
      ]
     },
     "execution_count": 81,
     "metadata": {},
     "output_type": "execute_result"
    }
   ],
   "source": [
    "filled_crash.isnull().sum()"
   ]
  },
  {
   "cell_type": "markdown",
   "id": "2c048afb",
   "metadata": {},
   "source": [
    "And so now all the nulls are handled, and we have dropped all irrelevant columns. Great!"
   ]
  },
  {
   "cell_type": "markdown",
   "id": "afb08ad8",
   "metadata": {},
   "source": [
    "### Saving Filtered Dataset"
   ]
  },
  {
   "cell_type": "code",
   "execution_count": 85,
   "id": "faf3e1c5",
   "metadata": {},
   "outputs": [],
   "source": [
    "filled_crash.to_csv('./data/VDOT_crash_cleaned.csv', index=False)"
   ]
  }
 ],
 "metadata": {
  "kernelspec": {
   "display_name": "venv",
   "language": "python",
   "name": "python3"
  },
  "language_info": {
   "codemirror_mode": {
    "name": "ipython",
    "version": 3
   },
   "file_extension": ".py",
   "mimetype": "text/x-python",
   "name": "python",
   "nbconvert_exporter": "python",
   "pygments_lexer": "ipython3",
   "version": "3.13.3"
  }
 },
 "nbformat": 4,
 "nbformat_minor": 5
}
